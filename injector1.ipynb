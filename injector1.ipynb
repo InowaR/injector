{
  "nbformat": 4,
  "nbformat_minor": 0,
  "metadata": {
    "colab": {
      "provenance": [],
      "authorship_tag": "ABX9TyMAjSaG5LQYQsCunvX4CiB8",
      "include_colab_link": true
    },
    "kernelspec": {
      "name": "python3",
      "display_name": "Python 3"
    },
    "language_info": {
      "name": "python"
    }
  },
  "cells": [
    {
      "cell_type": "markdown",
      "metadata": {
        "id": "view-in-github",
        "colab_type": "text"
      },
      "source": [
        "<a href=\"https://colab.research.google.com/github/InowaR/injector/blob/main/injector1.ipynb\" target=\"_parent\"><img src=\"https://colab.research.google.com/assets/colab-badge.svg\" alt=\"Open In Colab\"/></a>"
      ]
    },
    {
      "cell_type": "code",
      "execution_count": 46,
      "metadata": {
        "colab": {
          "base_uri": "https://localhost:8080/"
        },
        "id": "HtrYJtaZyeVR",
        "outputId": "f57e46dc-f8bd-4e16-fe9c-0672941ce740"
      },
      "outputs": [
        {
          "output_type": "stream",
          "name": "stdout",
          "text": [
            "1\n",
            "[1]\n",
            "intake\n",
            "------------------\n",
            "1\n",
            "[1, 1]\n",
            "------------------\n",
            "1\n",
            "[1, 1, 1]\n",
            "spark\n",
            "------------------\n",
            "1\n",
            "[1, 1, 1, 1]\n",
            "------------------\n",
            "1\n",
            "[1, 1, 1, 1, 1]\n",
            "start\n",
            "1\n",
            "10.43129849433899\n",
            "5.751920533437106\n"
          ]
        }
      ],
      "source": [
        "import time\n",
        "\n",
        "######################\n",
        "INTAKE = 1           #    number before intake() starts\n",
        "INJECTION_TIME = 1   #    open injector time\n",
        "SPARK = 3            #    number before spark() starts \n",
        "FLYHWEEl_POINT = 5   #    flywheel mark\n",
        "######################\n",
        "\n",
        "\n",
        "def wheel():\n",
        "  gear = []\n",
        "  rotation = 0\n",
        "  start = time.time()\n",
        "  while True:\n",
        "    a = int(input())\n",
        "    gear.append(a)\n",
        "    print(gear)\n",
        "    if len(gear) == INTAKE:\n",
        "      print(\"intake\")\n",
        "    if len(gear) == SPARK:\n",
        "      print(\"spark\")\n",
        "    if len(gear) == FLYHWEEl_POINT:  \n",
        "      print(\"start\")\n",
        "      rotation += 1       \n",
        "      break\n",
        "    print(\"------------------\")\n",
        "  end = time.time()\n",
        "  clock = end - start\n",
        "  print(rotation) \n",
        "  print(clock)  \n",
        "  rpm = 60 * rotation / clock\n",
        "  print(rpm)\n",
        "wheel()"
      ]
    }
  ]
}