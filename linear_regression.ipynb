{
  "nbformat": 4,
  "nbformat_minor": 0,
  "metadata": {
    "colab": {
      "provenance": [],
      "authorship_tag": "ABX9TyM2ygO6RWxhW8neYh+SWL+4",
      "include_colab_link": true
    },
    "kernelspec": {
      "name": "python3",
      "display_name": "Python 3"
    },
    "language_info": {
      "name": "python"
    }
  },
  "cells": [
    {
      "cell_type": "markdown",
      "metadata": {
        "id": "view-in-github",
        "colab_type": "text"
      },
      "source": [
        "<a href=\"https://colab.research.google.com/github/InowaR/injector/blob/main/linear_regression.ipynb\" target=\"_parent\"><img src=\"https://colab.research.google.com/assets/colab-badge.svg\" alt=\"Open In Colab\"/></a>"
      ]
    },
    {
      "cell_type": "code",
      "execution_count": 4,
      "metadata": {
        "colab": {
          "base_uri": "https://localhost:8080/"
        },
        "id": "Zan32SAvRCnk",
        "outputId": "75f481b4-2fec-4ae9-824d-e1d56b3bc190"
      },
      "outputs": [
        {
          "output_type": "stream",
          "name": "stdout",
          "text": [
            "coefficient of determination: 1.0\n",
            "predicted response:\n",
            "[[0.1]]\n"
          ]
        }
      ],
      "source": [
        "import numpy as np\n",
        "from sklearn.linear_model import LinearRegression\n",
        "\n",
        "x = np.array([0, 100, 200, 300, 400, 500]).reshape((-1, 1))\n",
        "y = np.array([0, 1, 2, 3, 4, 5]).reshape((-1, 1))\n",
        "\n",
        "model = LinearRegression()\n",
        "model.fit(x, y)\n",
        "\n",
        "score = model.score(x, y)\n",
        "print('coefficient of determination:', score)\n",
        "\n",
        "a = np.array([10]).reshape((-1, 1))\n",
        "y_pred = model.predict(a)\n",
        "print('predicted response:', y_pred, sep='\\n')"
      ]
    }
  ]
}