{
  "nbformat": 4,
  "nbformat_minor": 0,
  "metadata": {
    "colab": {
      "provenance": [],
      "authorship_tag": "ABX9TyMyK9TdLa8E7P+fAoiYKaik",
      "include_colab_link": true
    },
    "kernelspec": {
      "name": "python3",
      "display_name": "Python 3"
    },
    "language_info": {
      "name": "python"
    }
  },
  "cells": [
    {
      "cell_type": "markdown",
      "metadata": {
        "id": "view-in-github",
        "colab_type": "text"
      },
      "source": [
        "<a href=\"https://colab.research.google.com/github/InowaR/injector/blob/main/linear_regression.ipynb\" target=\"_parent\"><img src=\"https://colab.research.google.com/assets/colab-badge.svg\" alt=\"Open In Colab\"/></a>"
      ]
    },
    {
      "cell_type": "code",
      "execution_count": 38,
      "metadata": {
        "colab": {
          "base_uri": "https://localhost:8080/"
        },
        "id": "Zan32SAvRCnk",
        "outputId": "f44a5f21-5038-4dd5-eba3-b6c44d413ca5"
      },
      "outputs": [
        {
          "output_type": "stream",
          "name": "stdout",
          "text": [
            "coefficient of determination: 1.0\n",
            "predicted response:\n",
            "[[10.]]\n"
          ]
        }
      ],
      "source": [
        "import numpy as np\n",
        "from sklearn.linear_model import LinearRegression\n",
        "\n",
        "x = np.array([1, 2, 3, 4, 5, 6]).reshape((-1, 1))\n",
        "y = np.array([1, 2, 3, 4, 5, 6]).reshape((-1, 1))\n",
        "\n",
        "model = LinearRegression()\n",
        "model.fit(x, y)\n",
        "\n",
        "score = model.score(x, y)\n",
        "print('coefficient of determination:', score)\n",
        "\n",
        "a = np.array([10]).reshape((-1, 1))\n",
        "y_pred = model.predict(a)\n",
        "print('predicted response:', y_pred, sep='\\n')"
      ]
    }
  ]
}