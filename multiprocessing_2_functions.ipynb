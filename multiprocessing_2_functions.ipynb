{
  "nbformat": 4,
  "nbformat_minor": 0,
  "metadata": {
    "colab": {
      "provenance": [],
      "authorship_tag": "ABX9TyP5uCPQneUtqqOl5wxcfk5t",
      "include_colab_link": true
    },
    "kernelspec": {
      "name": "python3",
      "display_name": "Python 3"
    },
    "language_info": {
      "name": "python"
    }
  },
  "cells": [
    {
      "cell_type": "markdown",
      "metadata": {
        "id": "view-in-github",
        "colab_type": "text"
      },
      "source": [
        "<a href=\"https://colab.research.google.com/github/InowaR/injector/blob/main/multiprocessing_2_functions.ipynb\" target=\"_parent\"><img src=\"https://colab.research.google.com/assets/colab-badge.svg\" alt=\"Open In Colab\"/></a>"
      ]
    },
    {
      "cell_type": "code",
      "execution_count": 16,
      "metadata": {
        "colab": {
          "base_uri": "https://localhost:8080/"
        },
        "id": "YmvpFRoVb4Ci",
        "outputId": "a144ec43-31fd-4879-ffe1-5eb35cca3ff4"
      },
      "outputs": [
        {
          "output_type": "stream",
          "name": "stdout",
          "text": [
            "start main\n",
            "start f\n",
            "hello bob\n",
            "end f\n",
            "end main\n"
          ]
        }
      ],
      "source": [
        "from multiprocessing import Process\n",
        "import time\n",
        "\n",
        "def main():\n",
        "  print(\"start main\")\n",
        "  p = Process(target=f, args=('bob',))\n",
        "  p.start()\n",
        "  time.sleep(3)\n",
        "  print(\"end main\")\n",
        "\n",
        "def f(name):\n",
        "  print(\"start f\")\n",
        "  time.sleep(2)\n",
        "  print('hello', name)\n",
        "  print(\"end f\")\n",
        "\n",
        "if __name__ == '__main__':\n",
        "  main()"
      ]
    }
  ]
}